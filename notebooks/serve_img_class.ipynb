{
  "nbformat": 4,
  "nbformat_minor": 0,
  "metadata": {
    "colab": {
      "name": "img_tfserve.ipynb",
      "provenance": [],
      "collapsed_sections": []
    },
    "kernelspec": {
      "name": "python3",
      "display_name": "Python 3"
    },
    "language_info": {
      "name": "python"
    }
  },
  "cells": [
    {
      "cell_type": "markdown",
      "metadata": {
        "id": "vScWsRh4_NjY"
      },
      "source": [
        "# Serve image class with tf\n",
        "\n",
        "---\n",
        "\n"
      ]
    },
    {
      "cell_type": "markdown",
      "metadata": {
        "id": "gNy58Jv6aZX5"
      },
      "source": [
        "author: steeve LAQUITAINE"
      ]
    },
    {
      "cell_type": "markdown",
      "metadata": {
        "id": "yN0Pv36D_fI1"
      },
      "source": [
        "## Setup"
      ]
    },
    {
      "cell_type": "code",
      "metadata": {
        "colab": {
          "base_uri": "https://localhost:8080/"
        },
        "id": "PkN5qgM_aCpn",
        "outputId": "8534c52a-4e21-42cd-b08a-96b6172cd565"
      },
      "source": [
        "# install cola-missing dependencies\n",
        "!pip install requests"
      ],
      "execution_count": 138,
      "outputs": [
        {
          "output_type": "stream",
          "name": "stdout",
          "text": [
            "Requirement already satisfied: requests in /usr/local/lib/python3.7/dist-packages (2.23.0)\n",
            "Requirement already satisfied: urllib3!=1.25.0,!=1.25.1,<1.26,>=1.21.1 in /usr/local/lib/python3.7/dist-packages (from requests) (1.24.3)\n",
            "Requirement already satisfied: chardet<4,>=3.0.2 in /usr/local/lib/python3.7/dist-packages (from requests) (3.0.4)\n",
            "Requirement already satisfied: idna<3,>=2.5 in /usr/local/lib/python3.7/dist-packages (from requests) (2.10)\n",
            "Requirement already satisfied: certifi>=2017.4.17 in /usr/local/lib/python3.7/dist-packages (from requests) (2021.5.30)\n"
          ]
        }
      ]
    },
    {
      "cell_type": "markdown",
      "metadata": {
        "id": "dClmhwkCFt_R"
      },
      "source": [
        "Setup codebase dependencies"
      ]
    },
    {
      "cell_type": "code",
      "metadata": {
        "id": "uIZgc7pIWzM_"
      },
      "source": [
        "# utils\n",
        "import os\n",
        "import tempfile\n",
        "import shutil\n",
        "\n",
        "# data prep\n",
        "import random\n",
        "import numpy as np\n",
        "\n",
        "# viz \n",
        "import matplotlib.pyplot as plt\n",
        "import pprint\n",
        "\n",
        "# model\n",
        "import tensorflow as tf\n",
        "\n",
        "# serving\n",
        "import json\n",
        "import requests"
      ],
      "execution_count": 139,
      "outputs": []
    },
    {
      "cell_type": "markdown",
      "metadata": {
        "id": "4nPzstCQFg61"
      },
      "source": [
        "Setup tensorflow server dependencies\n"
      ]
    },
    {
      "cell_type": "code",
      "metadata": {
        "id": "AcJD25XPFNIp",
        "colab": {
          "base_uri": "https://localhost:8080/"
        },
        "outputId": "bb459027-adce-4da6-94d8-9d1add30787f"
      },
      "source": [
        "# setup tf server packages\n",
        "!echo \"deb http://storage.googleapis.com/tensorflow-serving-apt stable tensorflow-model-server tensorflow-model-server-universal\" | sudo tee /etc/apt/sources.list.d/tensorflow-serving.list\n",
        "!curl https://storage.googleapis.com/tensorflow-serving-apt/tensorflow-serving.release.pub.gpg | sudo apt-key add -\n",
        "!sudo apt-get update && sudo apt-get install tensorflow-model-server"
      ],
      "execution_count": 66,
      "outputs": [
        {
          "output_type": "stream",
          "name": "stdout",
          "text": [
            "deb http://storage.googleapis.com/tensorflow-serving-apt stable tensorflow-model-server tensorflow-model-server-universal\n",
            "  % Total    % Received % Xferd  Average Speed   Time    Time     Time  Current\n",
            "                                 Dload  Upload   Total   Spent    Left  Speed\n",
            "100  2943  100  2943    0     0    99k      0 --:--:-- --:--:-- --:--:--   99k\n",
            "OK\n",
            "Hit:1 http://storage.googleapis.com/tensorflow-serving-apt stable InRelease\n",
            "Hit:2 http://security.ubuntu.com/ubuntu bionic-security InRelease\n",
            "Ign:3 https://developer.download.nvidia.com/compute/cuda/repos/ubuntu1804/x86_64  InRelease\n",
            "Ign:4 https://developer.download.nvidia.com/compute/machine-learning/repos/ubuntu1804/x86_64  InRelease\n",
            "Hit:5 http://ppa.launchpad.net/c2d4u.team/c2d4u4.0+/ubuntu bionic InRelease\n",
            "Hit:6 https://developer.download.nvidia.com/compute/cuda/repos/ubuntu1804/x86_64  Release\n",
            "Hit:7 https://developer.download.nvidia.com/compute/machine-learning/repos/ubuntu1804/x86_64  Release\n",
            "Hit:8 http://archive.ubuntu.com/ubuntu bionic InRelease\n",
            "Hit:9 http://archive.ubuntu.com/ubuntu bionic-updates InRelease\n",
            "Hit:10 https://cloud.r-project.org/bin/linux/ubuntu bionic-cran40/ InRelease\n",
            "Hit:11 http://ppa.launchpad.net/cran/libgit2/ubuntu bionic InRelease\n",
            "Hit:12 http://archive.ubuntu.com/ubuntu bionic-backports InRelease\n",
            "Hit:14 http://ppa.launchpad.net/deadsnakes/ppa/ubuntu bionic InRelease\n",
            "Hit:16 http://ppa.launchpad.net/graphics-drivers/ppa/ubuntu bionic InRelease\n",
            "Reading package lists... Done\n",
            "Reading package lists... Done\n",
            "Building dependency tree       \n",
            "Reading state information... Done\n",
            "tensorflow-model-server is already the newest version (2.6.0).\n",
            "0 upgraded, 0 newly installed, 0 to remove and 38 not upgraded.\n"
          ]
        }
      ]
    },
    {
      "cell_type": "markdown",
      "metadata": {
        "id": "O1ggrOHzXk44"
      },
      "source": [
        "## ELT dataset"
      ]
    },
    {
      "cell_type": "code",
      "metadata": {
        "id": "nynE32x5XS51"
      },
      "source": [
        "# import train and test data\n",
        "(X_train, Y_train), (X_test, Y_test) = tf.keras.datasets.fashion_mnist.load_data()"
      ],
      "execution_count": 67,
      "outputs": []
    },
    {
      "cell_type": "code",
      "metadata": {
        "colab": {
          "base_uri": "https://localhost:8080/"
        },
        "id": "sccUruWrAou7",
        "outputId": "347a3991-a7b1-4d6a-fa83-360baf672c52"
      },
      "source": [
        "# describe dataset\n",
        "print(\"dataset object type:\", type(X_train))\n",
        "print(\"data types:\", X_train.dtype)\n",
        "print(\"data shape:\", X_train.shape)"
      ],
      "execution_count": 72,
      "outputs": [
        {
          "output_type": "stream",
          "name": "stdout",
          "text": [
            "dataset object type: <class 'numpy.ndarray'>\n",
            "data types: uint8\n",
            "data shape: (60000, 28, 28)\n"
          ]
        }
      ]
    },
    {
      "cell_type": "markdown",
      "metadata": {
        "id": "NvJOiB2UA7F2"
      },
      "source": [
        ""
      ]
    },
    {
      "cell_type": "code",
      "metadata": {
        "id": "AXfA9kRKXgVB"
      },
      "source": [
        "# define function nodes\n",
        "def normalize(X_train, X_test):\n",
        "  \"\"\"Ceil image intensity to 1.0\n",
        "  Args:\n",
        "  Return:\n",
        "  \"\"\"\n",
        "  X_train = X_train/255.0\n",
        "  X_test = X_test/255.0\n",
        "  return X_train, X_test\n",
        "\n",
        "def reshape(X_train, X_test, height:int, width:int, channel:int):\n",
        "  \"\"\"Reshape image dataset\n",
        "  Args:\n",
        "  Return:\n",
        "  \"\"\"  \n",
        "  X_train = X_train.reshape(X_train.shape[0], height, width, channel)\n",
        "  X_test = X_test.reshape(X_test.shape[0], height, width, channel)\n",
        "  return X_train, X_test\n",
        "\n",
        "def plot_img_sample(X_train, Y_train):\n",
        "  \"\"\"Plot a sample of images\n",
        "  Args:\n",
        "  Return:\n",
        "  \"\"\"    \n",
        "  W_grid = 4\n",
        "  L_grid = 4\n",
        "  fig, axes = plt.subplots(L_grid, W_grid, figsize = (15,15))\n",
        "  axes = axes.ravel()\n",
        "  n_training = len(X_train)\n",
        "  for i in np.arange(0, L_grid * W_grid):\n",
        "    index = np.random.randint(0, n_training)\n",
        "    axes[i].imshow(X_train[index].reshape(28,28))\n",
        "    axes[i].set_title(Y_train[index])\n",
        "    axes[i].axis(\"off\")\n",
        "  plt.subplots_adjust(hspace =0.4)"
      ],
      "execution_count": 73,
      "outputs": []
    },
    {
      "cell_type": "markdown",
      "metadata": {
        "id": "7hEbuZ9dYOAB"
      },
      "source": [
        "60,000 instances of (28,28)  shape "
      ]
    },
    {
      "cell_type": "code",
      "metadata": {
        "id": "YFHCjLIHXg2q"
      },
      "source": [
        "# normalize data\n",
        "X_train, X_test = normalize(X_train, X_test)\n",
        "X_train.shape\n",
        "\n",
        "# reshape train dataset to (60000, 28,28,1)\n",
        "X_train, X_test = reshape(X_train, X_test, height=28, width=28, channel=1)\n",
        "\n",
        "# define set of image classes\n",
        "class_names = [\"T-shirt/top\",\"trouser\", \"pullover\", \"Dress\", \n",
        "               \"coat\", \"Sandal\", \"Shirt\",\"Sneaker\", \"Bag\", \"Ankle boot\"]"
      ],
      "execution_count": 74,
      "outputs": []
    },
    {
      "cell_type": "markdown",
      "metadata": {
        "id": "gfszQfEK__aC"
      },
      "source": [
        "## Data viz"
      ]
    },
    {
      "cell_type": "code",
      "metadata": {
        "colab": {
          "base_uri": "https://localhost:8080/",
          "height": 862
        },
        "id": "vKs07MGw_-68",
        "outputId": "75bf8a7b-33e3-4987-e578-7f9d11c1a43c"
      },
      "source": [
        "# plot sample of images\n",
        "plot_img_sample(X_train, Y_train)"
      ],
      "execution_count": 75,
      "outputs": [
        {
          "output_type": "display_data",
          "data": {
            "image/png": "[encoded data removed]",
            "text/plain": [
              "<Figure size 1080x1080 with 16 Axes>"
            ]
          },
          "metadata": {
            "needs_background": "light"
          }
        }
      ]
    },
    {
      "cell_type": "markdown",
      "metadata": {
        "id": "ipEmx1N9aQou"
      },
      "source": [
        "# Build, train, test model"
      ]
    },
    {
      "cell_type": "code",
      "metadata": {
        "colab": {
          "base_uri": "https://localhost:8080/",
          "height": 35
        },
        "id": "u1SeyIibJvbV",
        "outputId": "635598c5-82d1-4e72-9678-cafd1f4f7cc1"
      },
      "source": [
        "# Set hyperparameters\n",
        "EPOCHS=5 # (int)\n",
        "VERSION=1 # (int)\n",
        "\n",
        "# set storage path\n",
        "MODEL_PATH=tempfile.gettempdir()\n",
        "\n",
        "# model\n",
        "MODEL_NAME=\"img_model\"\n",
        "\n",
        "# Server HOST\n",
        "HOST=\"http://localhost\"\n",
        "\n",
        "# Server PORT\n",
        "PORT=8502"
      ],
      "execution_count": 76,
      "outputs": [
        {
          "output_type": "execute_result",
          "data": {
            "application/vnd.google.colaboratory.intrinsic+json": {
              "type": "string"
            },
            "text/plain": [
              "'/tmp'"
            ]
          },
          "metadata": {},
          "execution_count": 76
        }
      ]
    },
    {
      "cell_type": "code",
      "metadata": {
        "id": "QlcVVGY1ZCIf"
      },
      "source": [
        "# define node functions\n",
        "def build_model():\n",
        "  cnn = tf.keras.models.Sequential()\n",
        "  cnn.add(tf.keras.layers.Conv2D(32, (3,3), \n",
        "                                activation = \"relu\",\n",
        "                                input_shape = (28,28,1)))\n",
        "  cnn.add(tf.keras.layers.MaxPooling2D(2,2))\n",
        "  cnn.add(tf.keras.layers.Conv2D(64, (3,3), activation = \"relu\"))\n",
        "  cnn.add(tf.keras.layers.Flatten())\n",
        "  cnn.add(tf.keras.layers.Dense(64, activation = \"relu\"))\n",
        "  cnn.add(tf.keras.layers.Dense(10, activation = \"softmax\"))\n",
        "  cnn.summary()\n",
        "  return cnn\n",
        "\n",
        "def save_model(cnn, save_path):\n",
        "\n",
        "  # clean up path\n",
        "  if os.path.exists(save_path):\n",
        "    print(\"\\nalready saved a model, cleaning up\\n\")\n",
        "    shutil.rmtree(save_path)\n",
        "\n",
        "  # disable eager execution to save model\n",
        "  if tf.executing_eagerly():\n",
        "    tf.compat.v1.disable_eager_execution()\n",
        "    \n",
        "  tf.compat.v1.saved_model.simple_save(\n",
        "      tf.compat.v1.keras.backend.get_session(),\n",
        "      save_path,\n",
        "      inputs = {\"input_image\": cnn.input},\n",
        "      outputs = {i.name:i for i in cnn.outputs}\n",
        "  )"
      ],
      "execution_count": 77,
      "outputs": []
    },
    {
      "cell_type": "code",
      "metadata": {
        "id": "ImRwZ0ViaXKM",
        "colab": {
          "base_uri": "https://localhost:8080/"
        },
        "outputId": "7a770f71-18df-4528-841d-1606beed5fac"
      },
      "source": [
        "# build model\n",
        "model = build_model()\n",
        "\n",
        "# compile loss and train \n",
        "model.compile(optimizer=tf.compat.v1.train.AdamOptimizer(),\n",
        "            loss=\"sparse_categorical_crossentropy\",\n",
        "            metrics=[\"accuracy\"])\n",
        "\n",
        "# train and evaluate model\n",
        "model.fit(X_train, Y_train, epochs=EPOCHS)\n",
        "test_loss, test_acc = model.evaluate(X_test, Y_test)\n",
        "print(f\"\\nTest accuracy: {test_acc}\")\n"
      ],
      "execution_count": 78,
      "outputs": [
        {
          "output_type": "stream",
          "name": "stdout",
          "text": [
            "Model: \"sequential_3\"\n",
            "_________________________________________________________________\n",
            "Layer (type)                 Output Shape              Param #   \n",
            "=================================================================\n",
            "conv2d_6 (Conv2D)            (None, 26, 26, 32)        320       \n",
            "_________________________________________________________________\n",
            "max_pooling2d_3 (MaxPooling2 (None, 13, 13, 32)        0         \n",
            "_________________________________________________________________\n",
            "conv2d_7 (Conv2D)            (None, 11, 11, 64)        18496     \n",
            "_________________________________________________________________\n",
            "flatten_3 (Flatten)          (None, 7744)              0         \n",
            "_________________________________________________________________\n",
            "dense_6 (Dense)              (None, 64)                495680    \n",
            "_________________________________________________________________\n",
            "dense_7 (Dense)              (None, 10)                650       \n",
            "=================================================================\n",
            "Total params: 515,146\n",
            "Trainable params: 515,146\n",
            "Non-trainable params: 0\n",
            "_________________________________________________________________\n",
            "Train on 60000 samples\n",
            "Epoch 1/5\n",
            "60000/60000 [==============================] - 60s 1ms/sample - loss: 0.4138 - accuracy: 0.8527\n",
            "Epoch 2/5\n",
            "60000/60000 [==============================] - 60s 995us/sample - loss: 0.2686 - accuracy: 0.9025\n",
            "Epoch 3/5\n",
            "60000/60000 [==============================] - 59s 988us/sample - loss: 0.2229 - accuracy: 0.9183\n",
            "Epoch 4/5\n",
            "60000/60000 [==============================] - 59s 983us/sample - loss: 0.1886 - accuracy: 0.9311\n",
            "Epoch 5/5\n",
            "60000/60000 [==============================] - 59s 986us/sample - loss: 0.1602 - accuracy: 0.9402\n"
          ]
        },
        {
          "output_type": "stream",
          "name": "stderr",
          "text": [
            "/usr/local/lib/python3.7/dist-packages/keras/engine/training.py:2470: UserWarning: `Model.state_updates` will be removed in a future version. This property should not be used in TensorFlow 2.0, as `updates` are applied automatically.\n",
            "  warnings.warn('`Model.state_updates` will be removed in a future version. '\n"
          ]
        },
        {
          "output_type": "stream",
          "name": "stdout",
          "text": [
            "\n",
            "Test accuracy: 0.9162999987602234\n"
          ]
        }
      ]
    },
    {
      "cell_type": "code",
      "metadata": {
        "colab": {
          "base_uri": "https://localhost:8080/"
        },
        "id": "S-dtY9QiK3X2",
        "outputId": "27528229-8686-43e9-b332-6a3173020ae9"
      },
      "source": [
        "# save model\n",
        "save_path = os.path.join(MODEL_PATH, str(VERSION))\n",
        "save_model(model, save_path)"
      ],
      "execution_count": 80,
      "outputs": [
        {
          "output_type": "stream",
          "name": "stdout",
          "text": [
            "\n",
            "already saved a model, cleaning up\n",
            "\n",
            "INFO:tensorflow:Assets added to graph.\n",
            "INFO:tensorflow:No assets to write.\n",
            "INFO:tensorflow:SavedModel written to: /tmp/1/saved_model.pb\n"
          ]
        }
      ]
    },
    {
      "cell_type": "markdown",
      "metadata": {
        "id": "oJO7QPP6gDF_"
      },
      "source": [
        "## Serve the model"
      ]
    },
    {
      "cell_type": "code",
      "metadata": {
        "colab": {
          "base_uri": "https://localhost:8080/"
        },
        "id": "1kiVIdVYfLbF",
        "outputId": "c093cf10-52a1-483f-ee87-7ee4615c2841"
      },
      "source": [
        "# inspect saved model\n",
        "!saved_model_cli show --dir {save_path} --all"
      ],
      "execution_count": 81,
      "outputs": [
        {
          "output_type": "stream",
          "name": "stdout",
          "text": [
            "\n",
            "MetaGraphDef with tag-set: 'serve' contains the following SignatureDefs:\n",
            "\n",
            "signature_def['serving_default']:\n",
            "  The given SavedModel SignatureDef contains the following input(s):\n",
            "    inputs['input_image'] tensor_info:\n",
            "        dtype: DT_FLOAT\n",
            "        shape: (-1, 28, 28, 1)\n",
            "        name: conv2d_6_input:0\n",
            "  The given SavedModel SignatureDef contains the following output(s):\n",
            "    outputs['dense_7/Softmax:0'] tensor_info:\n",
            "        dtype: DT_FLOAT\n",
            "        shape: (-1, 10)\n",
            "        name: dense_7/Softmax:0\n",
            "  Method name is: tensorflow/serving/predict\n"
          ]
        }
      ]
    },
    {
      "cell_type": "code",
      "metadata": {
        "colab": {
          "base_uri": "https://localhost:8080/"
        },
        "id": "O-YGVfhEgPpg",
        "outputId": "518c0437-8c89-4c9c-d160-1113da7fc795"
      },
      "source": [
        "# install tf server packages\n",
        "!echo \"deb http://storage.googleapis.com/tensorflow-serving-apt stable tensorflow-model-server tensorflow-model-server-universal\" | sudo tee /etc/apt/sources.list.d/tensorflow-serving.list\n",
        "!curl https://storage.googleapis.com/tensorflow-serving-apt/tensorflow-serving.release.pub.gpg | sudo apt-key add -\n",
        "!sudo apt-get update && sudo apt-get install tensorflow-model-server"
      ],
      "execution_count": 82,
      "outputs": [
        {
          "output_type": "stream",
          "name": "stdout",
          "text": [
            "deb http://storage.googleapis.com/tensorflow-serving-apt stable tensorflow-model-server tensorflow-model-server-universal\n",
            "  % Total    % Received % Xferd  Average Speed   Time    Time     Time  Current\n",
            "                                 Dload  Upload   Total   Spent    Left  Speed\n",
            "100  2943  100  2943    0     0   136k      0 --:--:-- --:--:-- --:--:--  136k\n",
            "OK\n",
            "Hit:1 http://storage.googleapis.com/tensorflow-serving-apt stable InRelease\n",
            "Hit:2 http://security.ubuntu.com/ubuntu bionic-security InRelease\n",
            "Ign:3 https://developer.download.nvidia.com/compute/cuda/repos/ubuntu1804/x86_64  InRelease\n",
            "Hit:4 https://cloud.r-project.org/bin/linux/ubuntu bionic-cran40/ InRelease\n",
            "Ign:5 https://developer.download.nvidia.com/compute/machine-learning/repos/ubuntu1804/x86_64  InRelease\n",
            "Hit:6 http://ppa.launchpad.net/c2d4u.team/c2d4u4.0+/ubuntu bionic InRelease\n",
            "Hit:7 https://developer.download.nvidia.com/compute/cuda/repos/ubuntu1804/x86_64  Release\n",
            "Hit:8 https://developer.download.nvidia.com/compute/machine-learning/repos/ubuntu1804/x86_64  Release\n",
            "Hit:9 http://archive.ubuntu.com/ubuntu bionic InRelease\n",
            "Hit:10 http://archive.ubuntu.com/ubuntu bionic-updates InRelease\n",
            "Hit:11 http://ppa.launchpad.net/cran/libgit2/ubuntu bionic InRelease\n",
            "Hit:12 http://archive.ubuntu.com/ubuntu bionic-backports InRelease\n",
            "Hit:13 http://ppa.launchpad.net/deadsnakes/ppa/ubuntu bionic InRelease\n",
            "Hit:16 http://ppa.launchpad.net/graphics-drivers/ppa/ubuntu bionic InRelease\n",
            "Reading package lists... Done\n",
            "Reading package lists... Done\n",
            "Building dependency tree       \n",
            "Reading state information... Done\n",
            "tensorflow-model-server is already the newest version (2.6.0).\n",
            "0 upgraded, 0 newly installed, 0 to remove and 38 not upgraded.\n"
          ]
        }
      ]
    },
    {
      "cell_type": "code",
      "metadata": {
        "id": "psx9hFKjh_JB"
      },
      "source": [
        "# set model path as environment variavle\n",
        "os.environ[\"MODEL_PATH\"] = MODEL_PATH"
      ],
      "execution_count": 83,
      "outputs": []
    },
    {
      "cell_type": "code",
      "metadata": {
        "colab": {
          "base_uri": "https://localhost:8080/"
        },
        "id": "3lxYD6xVjQxE",
        "outputId": "9b1e9b80-c2c8-4f25-ee0c-5af9ae538691"
      },
      "source": [
        "# %%bash --bg  a jupyter magic command, which tells Colab it is a bash script, aims to running in background\n",
        "# \"no hang up\", which let's run command immune to hang up.\n",
        "# Saves the command output in server.log file instead of printing them to stdout. (The output you have added in your question will no longer be visible in UI, but they will be printed in a file)\n",
        "#\n",
        "# Expected output: \n",
        "#   \n",
        "  # 2021-10-06 15:56:46.543781: I external/org_tensorflow/tensorflow/cc/saved_model/loader.cc:283] SavedModel load for tags { serve }; Status: success: OK. Took 134267 microseconds.\n",
        "  # 2021-10-06 15:56:46.545771: I tensorflow_serving/servables/tensorflow/saved_model_warmup_util.cc:59] No warmup data file found at /tmp/1/assets.extra/tf_serving_warmup_requests\n",
        "  # 2021-10-06 15:56:46.545918: I tensorflow_serving/core/loader_harness.cc:87] Successfully loaded servable version {name: img_model version: 1}\n",
        "  # 2021-10-06 15:56:46.547153: I tensorflow_serving/model_servers/server_core.cc:486] Finished adding/updating models\n",
        "  # 2021-10-06 15:56:46.547236: I tensorflow_serving/model_servers/server.cc:133] Using InsecureServerCredentials\n",
        "  # 2021-10-06 15:56:46.547252: I tensorflow_serving/model_servers/server.cc:383] Profiler service is enabled\n",
        "  # 2021-10-06 15:56:46.547747: I tensorflow_serving/model_servers/server.cc:409] Running gRPC ModelServer at 0.0.0.0:8500 ...\n",
        "  # [warn] getaddrinfo: address family for nodename not supported\n",
        "  # 2021-10-06 15:56:46.548580: I tensorflow_serving/model_servers/server.cc:430] Exporting HTTP/REST API at:localhost:8502 ...\n",
        "  # [evhttp_server.cc : 245] NET_LOG: Entering the event loop ...\n",
        "#\n",
        "# Note: you might need to check that there is not a already running server process running \n",
        "# on the rest_api_port (!ps then !kill <PID> if exists)\n",
        "%%bash --bg \n",
        "nohup tensorflow_model_server \\\n",
        "  --rest_api_port=8502 \\\n",
        "  --model_name=img_model \\\n",
        "  --model_base_path=\"${MODEL_PATH}\" >server.log 2>&1 # path of model to serve"
      ],
      "execution_count": 89,
      "outputs": [
        {
          "output_type": "stream",
          "name": "stdout",
          "text": [
            "Starting job # 11 in a separate thread.\n"
          ]
        }
      ]
    },
    {
      "cell_type": "code",
      "metadata": {
        "colab": {
          "base_uri": "https://localhost:8080/"
        },
        "id": "IYN1ND0ejoOk",
        "outputId": "2db2c7bd-501e-433b-c668-e46dc0b0b739"
      },
      "source": [
        "!tail server.log"
      ],
      "execution_count": 99,
      "outputs": [
        {
          "output_type": "stream",
          "name": "stdout",
          "text": [
            "2021-10-06 15:56:46.543781: I external/org_tensorflow/tensorflow/cc/saved_model/loader.cc:283] SavedModel load for tags { serve }; Status: success: OK. Took 134267 microseconds.\n",
            "2021-10-06 15:56:46.545771: I tensorflow_serving/servables/tensorflow/saved_model_warmup_util.cc:59] No warmup data file found at /tmp/1/assets.extra/tf_serving_warmup_requests\n",
            "2021-10-06 15:56:46.545918: I tensorflow_serving/core/loader_harness.cc:87] Successfully loaded servable version {name: img_model version: 1}\n",
            "2021-10-06 15:56:46.547153: I tensorflow_serving/model_servers/server_core.cc:486] Finished adding/updating models\n",
            "2021-10-06 15:56:46.547236: I tensorflow_serving/model_servers/server.cc:133] Using InsecureServerCredentials\n",
            "2021-10-06 15:56:46.547252: I tensorflow_serving/model_servers/server.cc:383] Profiler service is enabled\n",
            "2021-10-06 15:56:46.547747: I tensorflow_serving/model_servers/server.cc:409] Running gRPC ModelServer at 0.0.0.0:8500 ...\n",
            "[warn] getaddrinfo: address family for nodename not supported\n",
            "2021-10-06 15:56:46.548580: I tensorflow_serving/model_servers/server.cc:430] Exporting HTTP/REST API at:localhost:8502 ...\n",
            "[evhttp_server.cc : 245] NET_LOG: Entering the event loop ...\n"
          ]
        }
      ]
    },
    {
      "cell_type": "code",
      "metadata": {
        "id": "YdS36_1-V_BP"
      },
      "source": [
        "def show(idx, title):\n",
        "  plt.figure()\n",
        "  plt.imshow(X_test[idx].reshape(28,28))\n",
        "  plt.title(f'\\n\\n{title}', fontdict={'size':16})"
      ],
      "execution_count": 105,
      "outputs": []
    },
    {
      "cell_type": "code",
      "metadata": {
        "colab": {
          "base_uri": "https://localhost:8080/",
          "height": 318
        },
        "id": "aA0bpOXxWTut",
        "outputId": "8db5ddbe-e537-4790-e302-7b2117955a9e"
      },
      "source": [
        "# choose and display an image at random\n",
        "rando = random.randint(0, len(X_test)-1)\n",
        "show(rando, f\"Example: {class_names[Y_test[rando]]}\")b"
      ],
      "execution_count": 108,
      "outputs": [
        {
          "output_type": "display_data",
          "data": {
            "image/png": "[encoded data removed]",
            "text/plain": [
              "<Figure size 432x288 with 1 Axes>"
            ]
          },
          "metadata": {
            "needs_background": "light"
          }
        }
      ]
    },
    {
      "cell_type": "code",
      "metadata": {
        "colab": {
          "base_uri": "https://localhost:8080/"
        },
        "id": "jyvANCUEXDZA",
        "outputId": "79d9ef62-0163-4d6f-d334-af6f102966f5"
      },
      "source": [
        "# select three image instances\n",
        "data = json.dumps(\n",
        "    {\n",
        "        \"signature_name\": \"serving_default\",\n",
        "        \"instances\": X_test[0:3].tolist()\n",
        "        }\n",
        "        )\n",
        "pp.pprint(f\"data: {data[:50]}...{data[len(data)-52:]}\")"
      ],
      "execution_count": 136,
      "outputs": [
        {
          "output_type": "stream",
          "name": "stdout",
          "text": [
            "('data: {\"signature_name\": \"serving_default\", \"instances\":... [0.0], [0.0], '\n",
            " '[0.0], [0.0], [0.0], [0.0], [0.0]]]]}')\n"
          ]
        }
      ]
    },
    {
      "cell_type": "code",
      "metadata": {
        "id": "IW-RCqGbaf1z"
      },
      "source": [
        "headers = {\"content-type\":\"applicaton/json\"}\n",
        "json_response = requests.post(\n",
        "    f\"{HOST}:{PORT}/v{VERSION}}/models/{MODEL_NAME}:predict\", \n",
        "    data=data,\n",
        "    headers=headers\n",
        "    )\n",
        "predictions = json.loads(json_response.text)[\"predictions\"]"
      ],
      "execution_count": 144,
      "outputs": []
    },
    {
      "cell_type": "code",
      "metadata": {
        "colab": {
          "base_uri": "https://localhost:8080/",
          "height": 318
        },
        "id": "sTCZlxTbds6t",
        "outputId": "d5519678-b2ee-4a30-b28d-ded315f3e469"
      },
      "source": [
        "predicted = class_names[np.argmax(predictions[0])]\n",
        "show(0, f\"The model predict: {predicted} (class: {Y_test[0]})\")"
      ],
      "execution_count": 150,
      "outputs": [
        {
          "output_type": "display_data",
          "data": {
            "image/png": "[encoded data removed]",
            "text/plain": [
              "<Figure size 432x288 with 1 Axes>"
            ]
          },
          "metadata": {
            "needs_background": "light"
          }
        }
      ]
    },
    {
      "cell_type": "markdown",
      "metadata": {
        "id": "hw0-NhpIj__O"
      },
      "source": [
        "# References\n",
        "\n",
        "https://www.youtube.com/watch?v=zpKm8OxDBwE&t=1318s"
      ]
    }
  ]
}